{
 "cells": [
  {
   "cell_type": "markdown",
   "metadata": {
    "id": "nBfH6EZj-1zr"
   },
   "source": [
    "## Setup"
   ]
  },
  {
   "cell_type": "code",
   "execution_count": 153,
   "metadata": {
    "colab": {
     "base_uri": "https://localhost:8080/"
    },
    "id": "7rWGZVDa-1zu",
    "outputId": "47a7fddd-a02a-4389-b5e0-1e51aefd4da2"
   },
   "outputs": [
    {
     "name": "stdout",
     "output_type": "stream",
     "text": [
      "Requirement already satisfied: pytorch-nlp in /usr/local/lib/python3.7/dist-packages (0.5.0)\n",
      "Requirement already satisfied: tqdm in /usr/local/lib/python3.7/dist-packages (from pytorch-nlp) (4.64.0)\n",
      "Requirement already satisfied: numpy in /usr/local/lib/python3.7/dist-packages (from pytorch-nlp) (1.21.6)\n"
     ]
    }
   ],
   "source": [
    "!pip install pytorch-nlp\n",
    "import torch\n",
    "from torch import nn\n",
    "from torch import optim\n",
    "from torch.nn import functional as F\n",
    "import torchvision\n",
    "from torchvision import datasets, transforms\n",
    "from torch.utils.data import DataLoader, random_split\n",
    "\n",
    "import matplotlib.pyplot as plt\n",
    "import numpy as np"
   ]
  },
  {
   "cell_type": "code",
   "execution_count": 154,
   "metadata": {
    "colab": {
     "base_uri": "https://localhost:8080/"
    },
    "id": "xfif2u6Y-1zv",
    "outputId": "ba6bbb27-1f16-45fd-c214-e51961b42f2e"
   },
   "outputs": [
    {
     "name": "stdout",
     "output_type": "stream",
     "text": [
      "cuda:0\n"
     ]
    }
   ],
   "source": [
    "device = torch.device(\"cuda:0\" if torch.cuda.is_available() else \"cpu\")\n",
    "print(device)"
   ]
  },
  {
   "cell_type": "markdown",
   "metadata": {
    "id": "x1rqf1Lt-1zw"
   },
   "source": [
    "# Download dataset and prepare `DataLoader`s"
   ]
  },
  {
   "cell_type": "code",
   "execution_count": 155,
   "metadata": {
    "colab": {
     "base_uri": "https://localhost:8080/"
    },
    "id": "bM5xMhVW-1zx",
    "outputId": "227e44cb-78d7-410a-b373-568dc61f510d"
   },
   "outputs": [
    {
     "name": "stdout",
     "output_type": "stream",
     "text": [
      "Files already downloaded and verified\n",
      "Files already downloaded and verified\n",
      "782 79 79\n"
     ]
    }
   ],
   "source": [
    "BATCH_SIZE = 64\n",
    "epochs = 45\n",
    "lr = 0.0003\n",
    "\n",
    "transform = transforms.Compose(\n",
    "    [transforms.ToTensor(),\n",
    "     transforms.Normalize((0.5, 0.5, 0.5), (0.5, 0.5, 0.5))])\n",
    "\n",
    "trainset = torchvision.datasets.CIFAR10(root=\"./data\", train=True,\n",
    "                                        download=True, transform=transform)\n",
    "trainloader = torch.utils.data.DataLoader(trainset, batch_size=BATCH_SIZE,\n",
    "                                          shuffle=True, num_workers=2)\n",
    "\n",
    "tset = torchvision.datasets.CIFAR10(root=\"./data\", train=False,\n",
    "                                       download=True, transform=transform)\n",
    "valset, testset = random_split(tset, [len(tset)//2, len(tset)//2])\n",
    "valloader = torch.utils.data.DataLoader(valset, batch_size=BATCH_SIZE,\n",
    "                                         shuffle=False, num_workers=2)\n",
    "testloader = torch.utils.data.DataLoader(testset, batch_size=BATCH_SIZE,\n",
    "                                         shuffle=False, num_workers=2)\n",
    "CLASS_NAMES = (\"plane\", \"car\", \"bird\", \"cat\",\n",
    "               \"deer\", \"dog\", \"frog\", \"horse\", \"ship\", \"truck\")\n",
    "print(len(trainloader), len(valloader), len(testloader))"
   ]
  },
  {
   "cell_type": "markdown",
   "metadata": {
    "id": "0jmTyKuH-1zz"
   },
   "source": [
    "# Define training"
   ]
  },
  {
   "cell_type": "code",
   "execution_count": 156,
   "metadata": {
    "id": "59Q9ohac-1zz"
   },
   "outputs": [],
   "source": [
    "def train(model, device, train_loader, optimizer, criterion):\n",
    "  # Switch model to training mode. This is necessary for layers like dropout, batchnorm etc which behave differently in training and evaluation mode\n",
    "  model.train()\n",
    "\n",
    "  train_loss = 0\n",
    "  train_total = 0\n",
    "  train_correct = 0\n",
    "\n",
    "  # We loop over the data iterator, and feed the inputs to the network and adjust the weights.\n",
    "  for batch_idx, (data, target) in enumerate(train_loader, start=0):\n",
    "    \n",
    "    # Load the input features and labels from the training dataset\n",
    "    data, target = data.to(device), target.to(device)\n",
    "    \n",
    "    # Reset the gradients to 0 for all learnable weight parameters\n",
    "    optimizer.zero_grad()\n",
    "    \n",
    "    # Forward pass: Pass image data from training dataset, make predictions about class image belongs to (0-9 in this case)\n",
    "    output = model(data)\n",
    "    \n",
    "    # Define our loss function, and compute the loss\n",
    "    loss = criterion(output, target)\n",
    "    train_loss += loss.item()\n",
    "\n",
    "    scores, predictions = torch.max(output.data, 1)\n",
    "    train_total += target.size(0)\n",
    "    train_correct += int(sum(predictions == target))\n",
    "            \n",
    "    # Reset the gradients to 0 for all learnable weight parameters\n",
    "    optimizer.zero_grad()\n",
    "\n",
    "    # Backward pass: compute the gradients of the loss w.r.t. the model\"s parameters\n",
    "    loss.backward()\n",
    "    \n",
    "    # Update the neural network weights\n",
    "    optimizer.step()\n",
    "\n",
    "  acc = round((train_correct / train_total) * 100, 2)\n",
    "  return train_loss/train_total, acc\n",
    "  "
   ]
  },
  {
   "cell_type": "markdown",
   "metadata": {
    "id": "sgOWnweL-1z0"
   },
   "source": [
    "# Define testing"
   ]
  },
  {
   "cell_type": "code",
   "execution_count": 157,
   "metadata": {
    "id": "D1Ofzkf4-1z0"
   },
   "outputs": [],
   "source": [
    "def test(model, device, data_loader, criterion):\n",
    "  # Switch model to evaluation mode. This is necessary for layers like dropout, batchnorm etc which behave differently in training and evaluation mode\n",
    "  model.eval()\n",
    "\n",
    "  loss = 0\n",
    "  total = 0\n",
    "  correct = 0\n",
    "\n",
    "  example_images = []\n",
    "  with torch.no_grad():\n",
    "      for data, target in data_loader:\n",
    "          # Load the input features and labels from the test dataset\n",
    "          data, target = data.to(device), target.to(device)\n",
    "          \n",
    "          # Make predictions: Pass image data from test dataset, make predictions about class image belongs to (0-9 in this case)\n",
    "          output = model(data)\n",
    "          \n",
    "          # Compute the loss sum up batch loss\n",
    "          loss += criterion(output, target).item()\n",
    "          \n",
    "          scores, predictions = torch.max(output.data, 1)\n",
    "          total += target.size(0)\n",
    "          correct += int(sum(predictions == target))\n",
    "\n",
    "  acc = round((correct / total) * 100, 2)\n",
    "  return loss/total, acc, \n",
    " \n"
   ]
  },
  {
   "cell_type": "markdown",
   "metadata": {
    "id": "a-AEqVzajHEi"
   },
   "source": [
    "# Define Train_Model"
   ]
  },
  {
   "cell_type": "code",
   "execution_count": 158,
   "metadata": {
    "id": "lT4VSR05jNRI"
   },
   "outputs": [],
   "source": [
    "def train_model(net, device, optimizer, criterion, epochs):\n",
    "  train_losses = []\n",
    "  val_losses = []\n",
    "  test_losses = []\n",
    "  train_accs = []\n",
    "  val_accs = []\n",
    "  test_accs = []\n",
    "  for epoch in range(epochs):\n",
    "    train_loss, train_acc = train(net, device, trainloader, optimizer, criterion)\n",
    "    print(\"Epochs:{}/{}, Train_loss: {}, Train_accuracy: {}\".format(epoch+1, epochs, train_loss, train_acc))\n",
    "    val_loss, val_acc = test(net, device, valloader, criterion)\n",
    "    print(\" Val_loss: {}, Val_accuracy: {}\".format(val_loss, val_acc))\n",
    "    test_loss, test_acc = test(net, device, testloader, criterion)\n",
    "    train_losses.append(train_loss)\n",
    "    train_accs.append(train_acc)\n",
    "    val_losses.append(val_loss)\n",
    "    val_accs.append(val_acc)\n",
    "    test_losses.append(test_loss)\n",
    "    test_accs.append(test_acc)\n",
    "  print(\"Finished Training\")\n",
    "  min_test_loss = min(val_losses)\n",
    "  max_test_acc = max(val_accs)\n",
    "  index1 = val_losses.index(min_test_loss)\n",
    "  index2 = val_accs.index(max_test_acc)\n",
    "  print(\"The minimum validation loss is {}, at epoch {}\".format(min_test_loss, index1+1))\n",
    "  print(\"At epoch {}, the test loss is {}, the test accuracy is {}\".format(index1+1, test_losses[index1], test_accs[index1]))\n",
    "  print(\"The maximum validation accuracy is {}, at epoch {}\".format(max_test_acc, index2+1))\n",
    "  print(\"At epoch {}, the test loss is {}, the test accuracy is {}\".format(index2+1, test_losses[index2], test_accs[index2]))\n",
    "  return train_losses, train_accs, val_losses, val_accs"
   ]
  },
  {
   "cell_type": "markdown",
   "metadata": {
    "id": "NQj4zFtd-1z1"
   },
   "source": [
    "# Training the unregularized model"
   ]
  },
  {
   "cell_type": "code",
   "execution_count": 159,
   "metadata": {
    "id": "Cv29hIZk-1z1"
   },
   "outputs": [],
   "source": [
    "class Net(nn.Module):\n",
    "  def __init__(self, input_shape=(3,32,32)):\n",
    "    super(Net, self).__init__()\n",
    "    \n",
    "    self.conv1 = nn.Conv2d(3, 32, 3)\n",
    "    self.conv2 = nn.Conv2d(32, 64, 3)\n",
    "    self.conv3 = nn.Conv2d(64, 128, 3)\n",
    "    \n",
    "    self.pool = nn.MaxPool2d(2,2)\n",
    "\n",
    "    n_size = self._get_conv_output(input_shape)\n",
    "    \n",
    "    self.fc1 = nn.Linear(n_size, 512)\n",
    "    self.fc2 = nn.Linear(512, 10)\n",
    "\n",
    "  def _get_conv_output(self, shape):\n",
    "    batch_size = 1\n",
    "    input = torch.autograd.Variable(torch.rand(batch_size, *shape))\n",
    "    output_feat = self._forward_features(input)\n",
    "    n_size = output_feat.data.view(batch_size, -1).size(1)\n",
    "    return n_size\n",
    "\n",
    "  def _forward_features(self, x):\n",
    "    x = self.pool(F.relu(self.conv1(x)))\n",
    "    x = self.pool(F.relu(self.conv2(x)))\n",
    "    x = self.pool(F.relu(self.conv3(x)))\n",
    "    return x\n",
    "      \n",
    "  def forward(self, x):\n",
    "    x = self._forward_features(x)\n",
    "    x = x.view(x.size(0), -1)\n",
    "    x = F.relu(self.fc1(x))\n",
    "    x = self.fc2(x)\n",
    "    return x"
   ]
  },
  {
   "cell_type": "markdown",
   "metadata": {
    "id": "OJVqcgOV-1z2"
   },
   "source": [
    "#### Initialize Model, Loss and Optimizer"
   ]
  },
  {
   "cell_type": "code",
   "execution_count": 160,
   "metadata": {
    "id": "lkcz-6Jr-1z2"
   },
   "outputs": [],
   "source": [
    "net = Net().to(device)\n",
    "criterion = nn.CrossEntropyLoss()\n",
    "optimizer = optim.Adam(net.parameters(), lr=lr)"
   ]
  },
  {
   "cell_type": "markdown",
   "metadata": {
    "id": "y4sX62Ke-1z2"
   },
   "source": [
    "#### Train"
   ]
  },
  {
   "cell_type": "code",
   "execution_count": 161,
   "metadata": {
    "colab": {
     "base_uri": "https://localhost:8080/"
    },
    "id": "DYwYJ1Ov-1z2",
    "outputId": "059730ce-d789-4101-846c-10ad0dcc584e"
   },
   "outputs": [
    {
     "name": "stdout",
     "output_type": "stream",
     "text": [
      "Epochs:1/45, Train_loss: 0.025839245343208313, Train_accuracy: 39.15\n",
      " Val_loss: 0.022143758034706116, Val_accuracy: 49.48\n",
      "Epochs:2/45, Train_loss: 0.020779057879447938, Train_accuracy: 51.96\n",
      " Val_loss: 0.01944654949903488, Val_accuracy: 56.06\n",
      "Epochs:3/45, Train_loss: 0.01846092041373253, Train_accuracy: 57.92\n",
      " Val_loss: 0.017992432534694673, Val_accuracy: 59.26\n",
      "Epochs:4/45, Train_loss: 0.016664605741500853, Train_accuracy: 62.39\n",
      " Val_loss: 0.016987479245662688, Val_accuracy: 62.42\n",
      "Epochs:5/45, Train_loss: 0.015330710889101028, Train_accuracy: 65.52\n",
      " Val_loss: 0.01582172962427139, Val_accuracy: 64.54\n",
      "Epochs:6/45, Train_loss: 0.014277414486408234, Train_accuracy: 68.09\n",
      " Val_loss: 0.015111890280246735, Val_accuracy: 66.24\n",
      "Epochs:7/45, Train_loss: 0.013283113009929657, Train_accuracy: 70.3\n",
      " Val_loss: 0.014336541676521302, Val_accuracy: 67.94\n",
      "Epochs:8/45, Train_loss: 0.012464440585970878, Train_accuracy: 72.23\n",
      " Val_loss: 0.013789914286136627, Val_accuracy: 69.38\n",
      "Epochs:9/45, Train_loss: 0.011652627860307694, Train_accuracy: 74.13\n",
      " Val_loss: 0.01407703697681427, Val_accuracy: 68.98\n",
      "Epochs:10/45, Train_loss: 0.010918749011158944, Train_accuracy: 75.83\n",
      " Val_loss: 0.013130562883615493, Val_accuracy: 71.62\n",
      "Epochs:11/45, Train_loss: 0.010245653160214424, Train_accuracy: 77.14\n",
      " Val_loss: 0.012997581446170806, Val_accuracy: 71.18\n",
      "Epochs:12/45, Train_loss: 0.009600609306693077, Train_accuracy: 78.68\n",
      " Val_loss: 0.013148866760730743, Val_accuracy: 71.82\n",
      "Epochs:13/45, Train_loss: 0.008970629852414131, Train_accuracy: 80.06\n",
      " Val_loss: 0.013022328436374664, Val_accuracy: 71.56\n",
      "Epochs:14/45, Train_loss: 0.008428529098033904, Train_accuracy: 81.31\n",
      " Val_loss: 0.012836899065971375, Val_accuracy: 72.58\n",
      "Epochs:15/45, Train_loss: 0.007869029460549355, Train_accuracy: 82.65\n",
      " Val_loss: 0.01310722132921219, Val_accuracy: 71.9\n",
      "Epochs:16/45, Train_loss: 0.007290418402552605, Train_accuracy: 83.9\n",
      " Val_loss: 0.013890476697683334, Val_accuracy: 70.86\n",
      "Epochs:17/45, Train_loss: 0.006774768595695496, Train_accuracy: 85.08\n",
      " Val_loss: 0.013470792800188064, Val_accuracy: 73.06\n",
      "Epochs:18/45, Train_loss: 0.006239483450353146, Train_accuracy: 86.24\n",
      " Val_loss: 0.013764837354421616, Val_accuracy: 72.66\n",
      "Epochs:19/45, Train_loss: 0.005762938045561314, Train_accuracy: 87.39\n",
      " Val_loss: 0.01409979852437973, Val_accuracy: 72.44\n",
      "Epochs:20/45, Train_loss: 0.005312576964199543, Train_accuracy: 88.46\n",
      " Val_loss: 0.014208667021989823, Val_accuracy: 72.74\n",
      "Epochs:21/45, Train_loss: 0.004799483768045902, Train_accuracy: 89.58\n",
      " Val_loss: 0.014581343787908554, Val_accuracy: 72.62\n",
      "Epochs:22/45, Train_loss: 0.004375678653270006, Train_accuracy: 90.55\n",
      " Val_loss: 0.014985908371210098, Val_accuracy: 72.92\n",
      "Epochs:23/45, Train_loss: 0.003966834519803524, Train_accuracy: 91.44\n",
      " Val_loss: 0.01498027520775795, Val_accuracy: 72.96\n",
      "Epochs:24/45, Train_loss: 0.0035787181188166144, Train_accuracy: 92.3\n",
      " Val_loss: 0.015858593910932542, Val_accuracy: 73.58\n",
      "Epochs:25/45, Train_loss: 0.003209863051995635, Train_accuracy: 93.27\n",
      " Val_loss: 0.015954405778646468, Val_accuracy: 72.92\n",
      "Epochs:26/45, Train_loss: 0.0029632265293598175, Train_accuracy: 93.66\n",
      " Val_loss: 0.017046460485458374, Val_accuracy: 72.86\n",
      "Epochs:27/45, Train_loss: 0.0025282034865021707, Train_accuracy: 94.76\n",
      " Val_loss: 0.01772480560541153, Val_accuracy: 72.84\n",
      "Epochs:28/45, Train_loss: 0.0022760114278644323, Train_accuracy: 95.33\n",
      " Val_loss: 0.018898453557491302, Val_accuracy: 71.64\n",
      "Epochs:29/45, Train_loss: 0.001985960212498903, Train_accuracy: 95.86\n",
      " Val_loss: 0.019094580221176147, Val_accuracy: 72.84\n",
      "Epochs:30/45, Train_loss: 0.0016738100029528142, Train_accuracy: 96.64\n",
      " Val_loss: 0.02004506196975708, Val_accuracy: 72.44\n",
      "Epochs:31/45, Train_loss: 0.001705281051695347, Train_accuracy: 96.47\n",
      " Val_loss: 0.022215662503242493, Val_accuracy: 72.34\n",
      "Epochs:32/45, Train_loss: 0.0014333828814700245, Train_accuracy: 97.04\n",
      " Val_loss: 0.021975639951229097, Val_accuracy: 72.3\n",
      "Epochs:33/45, Train_loss: 0.0012883004435151816, Train_accuracy: 97.48\n",
      " Val_loss: 0.02169144047498703, Val_accuracy: 72.9\n",
      "Epochs:34/45, Train_loss: 0.0010391148455999792, Train_accuracy: 98.03\n",
      " Val_loss: 0.022749372839927673, Val_accuracy: 72.18\n",
      "Epochs:35/45, Train_loss: 0.0010723940222896636, Train_accuracy: 97.84\n",
      " Val_loss: 0.024817879390716554, Val_accuracy: 72.38\n",
      "Epochs:36/45, Train_loss: 0.0010336964911967516, Train_accuracy: 97.92\n",
      " Val_loss: 0.024401038873195648, Val_accuracy: 72.36\n",
      "Epochs:37/45, Train_loss: 0.0008788865445554257, Train_accuracy: 98.2\n",
      " Val_loss: 0.026194125080108644, Val_accuracy: 72.44\n",
      "Epochs:38/45, Train_loss: 0.0008391410170029849, Train_accuracy: 98.32\n",
      " Val_loss: 0.025550946485996245, Val_accuracy: 72.06\n",
      "Epochs:39/45, Train_loss: 0.0007914661220647395, Train_accuracy: 98.35\n",
      " Val_loss: 0.027758443105220795, Val_accuracy: 72.52\n",
      "Epochs:40/45, Train_loss: 0.0007022045876411722, Train_accuracy: 98.62\n",
      " Val_loss: 0.027030737471580506, Val_accuracy: 72.88\n",
      "Epochs:41/45, Train_loss: 0.000785662065334618, Train_accuracy: 98.32\n",
      " Val_loss: 0.028216527831554414, Val_accuracy: 71.94\n",
      "Epochs:42/45, Train_loss: 0.0007101049835886806, Train_accuracy: 98.53\n",
      " Val_loss: 0.028790426075458526, Val_accuracy: 72.22\n",
      "Epochs:43/45, Train_loss: 0.0007693432405311614, Train_accuracy: 98.38\n",
      " Val_loss: 0.028483253836631774, Val_accuracy: 72.74\n",
      "Epochs:44/45, Train_loss: 0.0005147370293806307, Train_accuracy: 99.09\n",
      " Val_loss: 0.029524888384342193, Val_accuracy: 70.9\n",
      "Epochs:45/45, Train_loss: 0.0007609279313636944, Train_accuracy: 98.39\n",
      " Val_loss: 0.03082072970867157, Val_accuracy: 72.04\n",
      "Finished Training\n",
      "The minimum validation loss is 0.012836899065971375, at epoch 14\n",
      "At epoch 14, the test loss is 0.013256425154209137, the test accuracy is 72.26\n",
      "The maximum validation accuracy is 73.58, at epoch 24\n",
      "At epoch 24, the test loss is 0.016840766060352324, the test accuracy is 73.0\n"
     ]
    }
   ],
   "source": [
    "train_losses1, train_accs1, val_losses1, val_accs1 = train_model(net, device, optimizer, criterion, epochs)"
   ]
  },
  {
   "cell_type": "markdown",
   "metadata": {
    "id": "IB4Tm8K0-1z3"
   },
   "source": [
    "# Training a model with dropout regularization"
   ]
  },
  {
   "cell_type": "code",
   "execution_count": 162,
   "metadata": {
    "id": "2cfOX6ab-1z3"
   },
   "outputs": [],
   "source": [
    "class Net(nn.Module):\n",
    "  def __init__(self, input_shape=(3,32,32)):\n",
    "    super(Net, self).__init__()\n",
    "    \n",
    "    self.conv1 = nn.Conv2d(3, 32, 3)\n",
    "    self.conv2 = nn.Conv2d(32, 64, 3)\n",
    "    self.conv3 = nn.Conv2d(64, 128, 3)\n",
    "    \n",
    "    self.pool = nn.MaxPool2d(2,2)\n",
    "\n",
    "    n_size = self._get_conv_output(input_shape)\n",
    "    \n",
    "    self.fc1 = nn.Linear(n_size, 512)\n",
    "    self.fc2 = nn.Linear(512, 10)\n",
    "\n",
    "    self.dropout = nn.Dropout(0.5)\n",
    "\n",
    "  def _get_conv_output(self, shape):\n",
    "    batch_size = 1\n",
    "    input = torch.autograd.Variable(torch.rand(batch_size, *shape))\n",
    "    output_feat = self._forward_features(input)\n",
    "    n_size = output_feat.data.view(batch_size, -1).size(1)\n",
    "    return n_size\n",
    "\n",
    "  def _forward_features(self, x):\n",
    "    x = self.pool(F.relu(self.conv1(x)))\n",
    "    x = self.pool(F.relu(self.conv2(x)))\n",
    "    x = self.pool(F.relu(self.conv3(x)))\n",
    "    return x\n",
    "      \n",
    "  def forward(self, x):\n",
    "    x = self._forward_features(x)\n",
    "    x = x.view(x.size(0), -1)\n",
    "    x = F.relu(self.fc1(x))\n",
    "    x = self.dropout(x)\n",
    "    x = self.fc2(x)\n",
    "    return x"
   ]
  },
  {
   "cell_type": "markdown",
   "metadata": {
    "id": "PFTJIJLP-1z3"
   },
   "source": [
    "#### Initialize Model, Loss and Optimizer"
   ]
  },
  {
   "cell_type": "code",
   "execution_count": 163,
   "metadata": {
    "colab": {
     "base_uri": "https://localhost:8080/"
    },
    "id": "nwl1td04-1z4",
    "outputId": "b25fa3ac-0903-4c29-89cc-f46e4f2bd3a0"
   },
   "outputs": [
    {
     "name": "stdout",
     "output_type": "stream",
     "text": [
      "Net(\n",
      "  (conv1): Conv2d(3, 32, kernel_size=(3, 3), stride=(1, 1))\n",
      "  (conv2): Conv2d(32, 64, kernel_size=(3, 3), stride=(1, 1))\n",
      "  (conv3): Conv2d(64, 128, kernel_size=(3, 3), stride=(1, 1))\n",
      "  (pool): MaxPool2d(kernel_size=2, stride=2, padding=0, dilation=1, ceil_mode=False)\n",
      "  (fc1): Linear(in_features=512, out_features=512, bias=True)\n",
      "  (fc2): Linear(in_features=512, out_features=10, bias=True)\n",
      "  (dropout): Dropout(p=0.5, inplace=False)\n",
      ")\n"
     ]
    }
   ],
   "source": [
    "net = Net().to(device)\n",
    "print(net)\n",
    "\n",
    "criterion = nn.CrossEntropyLoss()\n",
    "optimizer = optim.Adam(net.parameters(), lr=lr)"
   ]
  },
  {
   "cell_type": "markdown",
   "metadata": {
    "id": "0u6Rw7li-1z4"
   },
   "source": [
    "#### Train"
   ]
  },
  {
   "cell_type": "code",
   "execution_count": 164,
   "metadata": {
    "colab": {
     "base_uri": "https://localhost:8080/"
    },
    "id": "MKJ02ptv-1z4",
    "outputId": "11fb51ee-01d8-46eb-c597-c16b9660eef5"
   },
   "outputs": [
    {
     "name": "stdout",
     "output_type": "stream",
     "text": [
      "Epochs:1/45, Train_loss: 0.02657002835512161, Train_accuracy: 37.06\n",
      " Val_loss: 0.02269824471473694, Val_accuracy: 47.26\n",
      "Epochs:2/45, Train_loss: 0.02180830277442932, Train_accuracy: 49.29\n",
      " Val_loss: 0.020056264567375182, Val_accuracy: 54.6\n",
      "Epochs:3/45, Train_loss: 0.019429156613349916, Train_accuracy: 55.32\n",
      " Val_loss: 0.018209161293506623, Val_accuracy: 59.5\n",
      "Epochs:4/45, Train_loss: 0.017835536661148073, Train_accuracy: 59.54\n",
      " Val_loss: 0.017423691630363464, Val_accuracy: 61.08\n",
      "Epochs:5/45, Train_loss: 0.016563281922340394, Train_accuracy: 62.57\n",
      " Val_loss: 0.016151072943210602, Val_accuracy: 63.66\n",
      "Epochs:6/45, Train_loss: 0.015459253511428833, Train_accuracy: 65.1\n",
      " Val_loss: 0.015457818186283112, Val_accuracy: 65.22\n",
      "Epochs:7/45, Train_loss: 0.014500097019672394, Train_accuracy: 67.44\n",
      " Val_loss: 0.015016126251220703, Val_accuracy: 66.14\n",
      "Epochs:8/45, Train_loss: 0.013707030822038651, Train_accuracy: 69.35\n",
      " Val_loss: 0.014458741009235382, Val_accuracy: 67.2\n",
      "Epochs:9/45, Train_loss: 0.012991154733896256, Train_accuracy: 70.76\n",
      " Val_loss: 0.013916990911960601, Val_accuracy: 68.36\n",
      "Epochs:10/45, Train_loss: 0.012259087096452712, Train_accuracy: 72.51\n",
      " Val_loss: 0.013793226754665374, Val_accuracy: 69.0\n",
      "Epochs:11/45, Train_loss: 0.011715148400068284, Train_accuracy: 73.74\n",
      " Val_loss: 0.013057962536811829, Val_accuracy: 71.18\n",
      "Epochs:12/45, Train_loss: 0.011134117140173911, Train_accuracy: 74.96\n",
      " Val_loss: 0.013029013562202454, Val_accuracy: 70.9\n",
      "Epochs:13/45, Train_loss: 0.010628852941393853, Train_accuracy: 76.16\n",
      " Val_loss: 0.012606265473365784, Val_accuracy: 71.92\n",
      "Epochs:14/45, Train_loss: 0.010105606307387351, Train_accuracy: 77.25\n",
      " Val_loss: 0.012723732590675354, Val_accuracy: 71.9\n",
      "Epochs:15/45, Train_loss: 0.009722758913636208, Train_accuracy: 78.4\n",
      " Val_loss: 0.012440150696039199, Val_accuracy: 72.34\n",
      "Epochs:16/45, Train_loss: 0.009217779616117477, Train_accuracy: 79.32\n",
      " Val_loss: 0.012439344692230224, Val_accuracy: 72.96\n",
      "Epochs:17/45, Train_loss: 0.00884048166692257, Train_accuracy: 80.15\n",
      " Val_loss: 0.012806325989961623, Val_accuracy: 72.56\n",
      "Epochs:18/45, Train_loss: 0.008381505609750747, Train_accuracy: 81.15\n",
      " Val_loss: 0.012421312183141709, Val_accuracy: 73.24\n",
      "Epochs:19/45, Train_loss: 0.00800619055569172, Train_accuracy: 82.04\n",
      " Val_loss: 0.012523021030426025, Val_accuracy: 73.56\n",
      "Epochs:20/45, Train_loss: 0.007707363051474094, Train_accuracy: 82.65\n",
      " Val_loss: 0.01247756803035736, Val_accuracy: 73.62\n",
      "Epochs:21/45, Train_loss: 0.007363127994835377, Train_accuracy: 83.47\n",
      " Val_loss: 0.012359054219722748, Val_accuracy: 74.44\n",
      "Epochs:22/45, Train_loss: 0.007001346658468246, Train_accuracy: 84.26\n",
      " Val_loss: 0.012787107431888581, Val_accuracy: 74.04\n",
      "Epochs:23/45, Train_loss: 0.006627597901821137, Train_accuracy: 84.85\n",
      " Val_loss: 0.012954534631967544, Val_accuracy: 73.72\n",
      "Epochs:24/45, Train_loss: 0.006339834147691727, Train_accuracy: 85.67\n",
      " Val_loss: 0.012954566270112992, Val_accuracy: 74.22\n",
      "Epochs:25/45, Train_loss: 0.00603558434098959, Train_accuracy: 86.2\n",
      " Val_loss: 0.013304126113653184, Val_accuracy: 74.46\n",
      "Epochs:26/45, Train_loss: 0.005750168481767177, Train_accuracy: 86.95\n",
      " Val_loss: 0.013342825162410737, Val_accuracy: 73.58\n",
      "Epochs:27/45, Train_loss: 0.005504428932964802, Train_accuracy: 87.46\n",
      " Val_loss: 0.013597335767745971, Val_accuracy: 74.06\n",
      "Epochs:28/45, Train_loss: 0.005238258803188801, Train_accuracy: 87.99\n",
      " Val_loss: 0.013570871186256408, Val_accuracy: 74.5\n",
      "Epochs:29/45, Train_loss: 0.0049534159168601035, Train_accuracy: 88.61\n",
      " Val_loss: 0.014127624702453613, Val_accuracy: 74.34\n",
      "Epochs:30/45, Train_loss: 0.004724262321293354, Train_accuracy: 89.26\n",
      " Val_loss: 0.014385632783174515, Val_accuracy: 74.02\n",
      "Epochs:31/45, Train_loss: 0.004479049050658941, Train_accuracy: 89.73\n",
      " Val_loss: 0.014951480448246002, Val_accuracy: 74.14\n",
      "Epochs:32/45, Train_loss: 0.004324702461957932, Train_accuracy: 90.15\n",
      " Val_loss: 0.01427917669415474, Val_accuracy: 74.8\n",
      "Epochs:33/45, Train_loss: 0.004116952149420977, Train_accuracy: 90.54\n",
      " Val_loss: 0.014918703156709671, Val_accuracy: 73.84\n",
      "Epochs:34/45, Train_loss: 0.003877063641101122, Train_accuracy: 91.08\n",
      " Val_loss: 0.014575510686635972, Val_accuracy: 74.26\n",
      "Epochs:35/45, Train_loss: 0.0037690344904363154, Train_accuracy: 91.21\n",
      " Val_loss: 0.01567175636291504, Val_accuracy: 74.56\n",
      "Epochs:36/45, Train_loss: 0.0036132721684873103, Train_accuracy: 91.6\n",
      " Val_loss: 0.01571641049981117, Val_accuracy: 74.22\n",
      "Epochs:37/45, Train_loss: 0.003451090433523059, Train_accuracy: 92.1\n",
      " Val_loss: 0.015847642788290976, Val_accuracy: 74.44\n",
      "Epochs:38/45, Train_loss: 0.0032586506025493144, Train_accuracy: 92.5\n",
      " Val_loss: 0.017613656264543535, Val_accuracy: 73.06\n",
      "Epochs:39/45, Train_loss: 0.003130532482638955, Train_accuracy: 92.79\n",
      " Val_loss: 0.01625078063607216, Val_accuracy: 74.08\n",
      "Epochs:40/45, Train_loss: 0.0030157563011348246, Train_accuracy: 93.14\n",
      " Val_loss: 0.016953735399246217, Val_accuracy: 74.58\n",
      "Epochs:41/45, Train_loss: 0.0029028290125727653, Train_accuracy: 93.38\n",
      " Val_loss: 0.017446709311008453, Val_accuracy: 73.86\n",
      "Epochs:42/45, Train_loss: 0.002766366309300065, Train_accuracy: 93.53\n",
      " Val_loss: 0.017496580839157106, Val_accuracy: 73.6\n",
      "Epochs:43/45, Train_loss: 0.0026392384199425576, Train_accuracy: 93.89\n",
      " Val_loss: 0.017934253519773482, Val_accuracy: 73.92\n",
      "Epochs:44/45, Train_loss: 0.0026452779880166053, Train_accuracy: 94.01\n",
      " Val_loss: 0.017296080070734025, Val_accuracy: 74.12\n",
      "Epochs:45/45, Train_loss: 0.002457714202068746, Train_accuracy: 94.49\n",
      " Val_loss: 0.018052536994218826, Val_accuracy: 74.24\n",
      "Finished Training\n",
      "The minimum validation loss is 0.012359054219722748, at epoch 21\n",
      "At epoch 21, the test loss is 0.012994017493724823, the test accuracy is 73.64\n",
      "The maximum validation accuracy is 74.8, at epoch 32\n",
      "At epoch 32, the test loss is 0.014521906626224518, the test accuracy is 74.22\n"
     ]
    }
   ],
   "source": [
    "train_losses2, train_accs2, val_losses2, val_accs2 = train_model(net, device, optimizer, criterion, epochs)"
   ]
  },
  {
   "cell_type": "markdown",
   "metadata": {
    "id": "jSV2UbX4Bm5B"
   },
   "source": [
    "# Training with dropconnect regularization"
   ]
  },
  {
   "cell_type": "markdown",
   "metadata": {
    "id": "XVFutsqDgFpe"
   },
   "source": [
    "Define DropConnect"
   ]
  },
  {
   "cell_type": "code",
   "execution_count": 165,
   "metadata": {
    "id": "7S79ZMHsjxXK"
   },
   "outputs": [],
   "source": [
    "from torch.nn import Parameter\n",
    "def _weight_drop(module, weight, dropout):\n",
    "    \"\"\"\n",
    "    Helper for `WeightDrop`.\n",
    "    \"\"\"\n",
    "\n",
    "    \n",
    "    w = getattr(module, weight)\n",
    "    del module._parameters[weight]\n",
    "    module.register_parameter(weight + '_raw', Parameter(w))\n",
    "\n",
    "    original_module_forward = module.forward\n",
    "\n",
    "    def forward(*args, **kwargs):\n",
    "        raw_w = getattr(module, weight + '_raw')\n",
    "        w = torch.nn.functional.dropout(raw_w, p=dropout, training=module.training)\n",
    "        setattr(module, weight, Parameter(w))\n",
    "\n",
    "        return original_module_forward(*args, **kwargs)\n",
    "\n",
    "    setattr(module, 'forward', forward)\n",
    "class WeightDropLinear1(torch.nn.Linear):\n",
    "    \"\"\"\n",
    "    Wrapper around :class:`torch.nn.Linear` that adds ``weight_dropout`` named argument.\n",
    "\n",
    "    Args:\n",
    "        weight_dropout (float): The probability a weight will be dropped.\n",
    "    \"\"\"\n",
    "\n",
    "    def __init__(self, *args, weight_dropout=0.0, **kwargs):\n",
    "        super().__init__(*args, **kwargs)\n",
    "        weights = 'weight'\n",
    "        _weight_drop(self, weights, weight_dropout)"
   ]
  },
  {
   "cell_type": "code",
   "execution_count": 166,
   "metadata": {
    "id": "o4jkRSndBrca"
   },
   "outputs": [],
   "source": [
    "class Net(nn.Module):\n",
    "  def __init__(self, input_shape=(3,32,32)):\n",
    "    super(Net, self).__init__()\n",
    "    \n",
    "    self.conv1 = nn.Conv2d(3, 32, 3)\n",
    "    self.conv2 = nn.Conv2d(32, 64, 3)\n",
    "    self.conv3 = nn.Conv2d(64, 128, 3)\n",
    "    \n",
    "    self.pool = nn.MaxPool2d(2,2)\n",
    "\n",
    "    n_size = self._get_conv_output(input_shape)\n",
    "    self.wd1 = WeightDropLinear1(in_features=n_size, out_features=n_size, weight_dropout=0.5)\n",
    "    self.fc1 = nn.Linear(n_size, 512)\n",
    "    self.fc2 = nn.Linear(512, 10)\n",
    "\n",
    "  def _get_conv_output(self, shape):\n",
    "    batch_size = 1\n",
    "    input = torch.autograd.Variable(torch.rand(batch_size, *shape))\n",
    "    output_feat = self._forward_features(input)\n",
    "    n_size = output_feat.data.view(batch_size, -1).size(1)\n",
    "    return n_size\n",
    "\n",
    "  def _forward_features(self, x):\n",
    "    x = self.pool(F.relu(self.conv1(x)))\n",
    "    x = self.pool(F.relu(self.conv2(x)))\n",
    "    x = self.pool(F.relu(self.conv3(x)))\n",
    "    return x\n",
    "      \n",
    "  def forward(self, x):\n",
    "    x = self._forward_features(x)\n",
    "    x = x.view(x.size(0), -1)\n",
    "    x = self.wd1(x)\n",
    "    x = F.relu(self.fc1(x))\n",
    "    x = self.fc2(x)\n",
    "    return x"
   ]
  },
  {
   "cell_type": "code",
   "execution_count": 167,
   "metadata": {
    "id": "i8qIhtosBs-L"
   },
   "outputs": [],
   "source": [
    "net = Net().to(device)\n",
    "criterion = nn.CrossEntropyLoss()\n",
    "optimizer = optim.Adam(net.parameters(), lr=lr)"
   ]
  },
  {
   "cell_type": "markdown",
   "metadata": {
    "id": "yx9urfUoDfaX"
   },
   "source": [
    "Training"
   ]
  },
  {
   "cell_type": "code",
   "execution_count": 168,
   "metadata": {
    "colab": {
     "base_uri": "https://localhost:8080/"
    },
    "id": "wX6l543EBy1W",
    "outputId": "af88f508-32c0-4789-8def-6ddd755fc1b1"
   },
   "outputs": [
    {
     "name": "stdout",
     "output_type": "stream",
     "text": [
      "Epochs:1/45, Train_loss: 0.027298289301395415, Train_accuracy: 34.9\n",
      " Val_loss: 0.024051397204399107, Val_accuracy: 43.52\n",
      "Epochs:2/45, Train_loss: 0.022777891376018523, Train_accuracy: 46.45\n",
      " Val_loss: 0.02091338367462158, Val_accuracy: 51.5\n",
      "Epochs:3/45, Train_loss: 0.020521777005195616, Train_accuracy: 52.29\n",
      " Val_loss: 0.019188994336128234, Val_accuracy: 56.32\n",
      "Epochs:4/45, Train_loss: 0.01891555255293846, Train_accuracy: 56.47\n",
      " Val_loss: 0.0175674192905426, Val_accuracy: 60.14\n",
      "Epochs:5/45, Train_loss: 0.017618438407182694, Train_accuracy: 60.01\n",
      " Val_loss: 0.016506905329227446, Val_accuracy: 62.66\n",
      "Epochs:6/45, Train_loss: 0.016497956236600875, Train_accuracy: 62.44\n",
      " Val_loss: 0.015912002992630004, Val_accuracy: 63.66\n",
      "Epochs:7/45, Train_loss: 0.015626084941625595, Train_accuracy: 64.43\n",
      " Val_loss: 0.014953514659404754, Val_accuracy: 66.4\n",
      "Epochs:8/45, Train_loss: 0.014768752777576447, Train_accuracy: 66.55\n",
      " Val_loss: 0.014620038175582885, Val_accuracy: 67.3\n",
      "Epochs:9/45, Train_loss: 0.014086320172548294, Train_accuracy: 68.35\n",
      " Val_loss: 0.01385073355436325, Val_accuracy: 69.02\n",
      "Epochs:10/45, Train_loss: 0.01338581292629242, Train_accuracy: 69.6\n",
      " Val_loss: 0.013315185856819152, Val_accuracy: 70.1\n",
      "Epochs:11/45, Train_loss: 0.012869073098897933, Train_accuracy: 70.93\n",
      " Val_loss: 0.013830667233467103, Val_accuracy: 68.52\n",
      "Epochs:12/45, Train_loss: 0.012361978452205657, Train_accuracy: 72.14\n",
      " Val_loss: 0.012650274294614792, Val_accuracy: 71.62\n",
      "Epochs:13/45, Train_loss: 0.011920224014520645, Train_accuracy: 73.21\n",
      " Val_loss: 0.012642185294628143, Val_accuracy: 72.02\n",
      "Epochs:14/45, Train_loss: 0.011444437990188598, Train_accuracy: 74.33\n",
      " Val_loss: 0.012773444885015488, Val_accuracy: 71.2\n",
      "Epochs:15/45, Train_loss: 0.011136255115866661, Train_accuracy: 74.91\n",
      " Val_loss: 0.012225919193029403, Val_accuracy: 73.02\n",
      "Epochs:16/45, Train_loss: 0.010682384608387947, Train_accuracy: 76.06\n",
      " Val_loss: 0.012091942346096039, Val_accuracy: 73.62\n",
      "Epochs:17/45, Train_loss: 0.01033175327718258, Train_accuracy: 76.9\n",
      " Val_loss: 0.011637474244832993, Val_accuracy: 75.1\n",
      "Epochs:18/45, Train_loss: 0.01007078226685524, Train_accuracy: 77.22\n",
      " Val_loss: 0.011579795497655868, Val_accuracy: 74.76\n",
      "Epochs:19/45, Train_loss: 0.009751506008505821, Train_accuracy: 78.12\n",
      " Val_loss: 0.011523739105463029, Val_accuracy: 74.92\n",
      "Epochs:20/45, Train_loss: 0.009420638525485992, Train_accuracy: 78.86\n",
      " Val_loss: 0.011687102204561234, Val_accuracy: 74.8\n",
      "Epochs:21/45, Train_loss: 0.00919504784822464, Train_accuracy: 79.35\n",
      " Val_loss: 0.011738501286506654, Val_accuracy: 74.32\n",
      "Epochs:22/45, Train_loss: 0.008865212844610214, Train_accuracy: 80.02\n",
      " Val_loss: 0.01113989850282669, Val_accuracy: 76.18\n",
      "Epochs:23/45, Train_loss: 0.008606712831258774, Train_accuracy: 80.55\n",
      " Val_loss: 0.011402838164567948, Val_accuracy: 75.12\n",
      "Epochs:24/45, Train_loss: 0.008353804339170457, Train_accuracy: 80.99\n",
      " Val_loss: 0.011269971823692321, Val_accuracy: 75.76\n",
      "Epochs:25/45, Train_loss: 0.00817625491142273, Train_accuracy: 81.55\n",
      " Val_loss: 0.011383124488592147, Val_accuracy: 75.82\n",
      "Epochs:26/45, Train_loss: 0.00791332826524973, Train_accuracy: 82.1\n",
      " Val_loss: 0.011392666923999786, Val_accuracy: 75.02\n",
      "Epochs:27/45, Train_loss: 0.007794862805306911, Train_accuracy: 82.31\n",
      " Val_loss: 0.01106880714893341, Val_accuracy: 76.4\n",
      "Epochs:28/45, Train_loss: 0.007503027726411819, Train_accuracy: 83.14\n",
      " Val_loss: 0.01143231770992279, Val_accuracy: 76.34\n",
      "Epochs:29/45, Train_loss: 0.007328961336016655, Train_accuracy: 83.41\n",
      " Val_loss: 0.011143681561946868, Val_accuracy: 76.56\n",
      "Epochs:30/45, Train_loss: 0.00713958758354187, Train_accuracy: 83.97\n",
      " Val_loss: 0.01110046119093895, Val_accuracy: 76.46\n",
      "Epochs:31/45, Train_loss: 0.006976458410322666, Train_accuracy: 84.14\n",
      " Val_loss: 0.01115878666639328, Val_accuracy: 76.72\n",
      "Epochs:32/45, Train_loss: 0.006691757842600346, Train_accuracy: 84.72\n",
      " Val_loss: 0.011619443118572235, Val_accuracy: 75.8\n",
      "Epochs:33/45, Train_loss: 0.0066146889963746075, Train_accuracy: 85.02\n",
      " Val_loss: 0.011399478352069855, Val_accuracy: 76.48\n",
      "Epochs:34/45, Train_loss: 0.006402650897800922, Train_accuracy: 85.34\n",
      " Val_loss: 0.01143074808716774, Val_accuracy: 76.62\n",
      "Epochs:35/45, Train_loss: 0.006203876359462738, Train_accuracy: 85.9\n",
      " Val_loss: 0.011718360930681229, Val_accuracy: 76.58\n",
      "Epochs:36/45, Train_loss: 0.006056804505288601, Train_accuracy: 86.09\n",
      " Val_loss: 0.011588640987873077, Val_accuracy: 76.64\n",
      "Epochs:37/45, Train_loss: 0.00590363419085741, Train_accuracy: 86.47\n",
      " Val_loss: 0.011623119181394578, Val_accuracy: 76.5\n",
      "Epochs:38/45, Train_loss: 0.005721194895654917, Train_accuracy: 87.04\n",
      " Val_loss: 0.011810255098342895, Val_accuracy: 76.9\n",
      "Epochs:39/45, Train_loss: 0.005585249022841453, Train_accuracy: 87.13\n",
      " Val_loss: 0.01212760500907898, Val_accuracy: 75.8\n",
      "Epochs:40/45, Train_loss: 0.005495858135223389, Train_accuracy: 87.37\n",
      " Val_loss: 0.012035949289798736, Val_accuracy: 76.02\n",
      "Epochs:41/45, Train_loss: 0.005384026767015457, Train_accuracy: 87.66\n",
      " Val_loss: 0.012026944041252137, Val_accuracy: 76.34\n",
      "Epochs:42/45, Train_loss: 0.005230490052998066, Train_accuracy: 87.98\n",
      " Val_loss: 0.011904812276363372, Val_accuracy: 76.72\n",
      "Epochs:43/45, Train_loss: 0.005077812606543303, Train_accuracy: 88.38\n",
      " Val_loss: 0.01250390511751175, Val_accuracy: 75.44\n",
      "Epochs:44/45, Train_loss: 0.004926573701351881, Train_accuracy: 88.56\n",
      " Val_loss: 0.012145114767551422, Val_accuracy: 76.18\n",
      "Epochs:45/45, Train_loss: 0.004889095743000507, Train_accuracy: 88.74\n",
      " Val_loss: 0.01209992682337761, Val_accuracy: 76.68\n",
      "Finished Training\n",
      "The minimum validation loss is 0.01106880714893341, at epoch 27\n",
      "At epoch 27, the test loss is 0.011747234660387039, the test accuracy is 75.44\n",
      "The maximum validation accuracy is 76.9, at epoch 38\n",
      "At epoch 38, the test loss is 0.012809068644046783, the test accuracy is 75.58\n"
     ]
    }
   ],
   "source": [
    "train_losses3, train_accs3, val_losses3, val_accs3 = train_model(net, device, optimizer, criterion, epochs)"
   ]
  },
  {
   "cell_type": "markdown",
   "metadata": {
    "id": "IsbypmMdmWct"
   },
   "source": [
    "# Training with dropblock regularization"
   ]
  },
  {
   "cell_type": "code",
   "execution_count": 169,
   "metadata": {
    "id": "4fga8SVrmPxM"
   },
   "outputs": [],
   "source": [
    "import torch\n",
    "import torch.nn.functional as F\n",
    "from torch import nn\n",
    "\n",
    "\n",
    "class DropBlock2D(nn.Module):\n",
    "    r\"\"\"Randomly zeroes 2D spatial blocks of the input tensor.\n",
    "    As described in the paper\n",
    "    `DropBlock: A regularization method for convolutional networks`_ ,\n",
    "    dropping whole blocks of feature map allows to remove semantic\n",
    "    information as compared to regular dropout.\n",
    "    Args:\n",
    "        drop_prob (float): probability of an element to be dropped.\n",
    "        block_size (int): size of the block to drop\n",
    "    Shape:\n",
    "        - Input: `(N, C, H, W)`\n",
    "        - Output: `(N, C, H, W)`\n",
    "    .. _DropBlock: A regularization method for convolutional networks:\n",
    "       https://arxiv.org/abs/1810.12890\n",
    "    \"\"\"\n",
    "\n",
    "    def __init__(self, drop_prob, block_size):\n",
    "        super(DropBlock2D, self).__init__()\n",
    "\n",
    "        self.drop_prob = drop_prob\n",
    "        self.block_size = block_size\n",
    "\n",
    "    def forward(self, x):\n",
    "        # shape: (bsize, channels, height, width)\n",
    "\n",
    "        assert x.dim() == 4, \\\n",
    "            \"Expected input with 4 dimensions (bsize, channels, height, width)\"\n",
    "\n",
    "        if not self.training or self.drop_prob == 0.:\n",
    "            return x\n",
    "        else:\n",
    "            # get gamma value\n",
    "            gamma = self._compute_gamma(x)\n",
    "\n",
    "            # sample mask\n",
    "            mask = (torch.rand(x.shape[0], *x.shape[2:]) < gamma).float()\n",
    "\n",
    "            # place mask on input device\n",
    "            mask = mask.to(x.device)\n",
    "\n",
    "            # compute block mask\n",
    "            block_mask = self._compute_block_mask(mask)\n",
    "\n",
    "            # apply block mask\n",
    "            out = x * block_mask[:, None, :, :]\n",
    "\n",
    "            # scale output\n",
    "            out = out * block_mask.numel() / block_mask.sum()\n",
    "\n",
    "            return out\n",
    "\n",
    "    def _compute_block_mask(self, mask):\n",
    "        block_mask = F.max_pool2d(input=mask[:, None, :, :],\n",
    "                                  kernel_size=(self.block_size, self.block_size),\n",
    "                                  stride=(1, 1),\n",
    "                                  padding=self.block_size // 2)\n",
    "\n",
    "        if self.block_size % 2 == 0:\n",
    "            block_mask = block_mask[:, :, :-1, :-1]\n",
    "\n",
    "        block_mask = 1 - block_mask.squeeze(1)\n",
    "\n",
    "        return block_mask\n",
    "\n",
    "    def _compute_gamma(self, x):\n",
    "        return self.drop_prob / (self.block_size ** 2)\n",
    "\n",
    "\n",
    "class DropBlock3D(DropBlock2D):\n",
    "    r\"\"\"Randomly zeroes 3D spatial blocks of the input tensor.\n",
    "    An extension to the concept described in the paper\n",
    "    `DropBlock: A regularization method for convolutional networks`_ ,\n",
    "    dropping whole blocks of feature map allows to remove semantic\n",
    "    information as compared to regular dropout.\n",
    "    Args:\n",
    "        drop_prob (float): probability of an element to be dropped.\n",
    "        block_size (int): size of the block to drop\n",
    "    Shape:\n",
    "        - Input: `(N, C, D, H, W)`\n",
    "        - Output: `(N, C, D, H, W)`\n",
    "    .. _DropBlock: A regularization method for convolutional networks:\n",
    "       https://arxiv.org/abs/1810.12890\n",
    "    \"\"\"\n",
    "\n",
    "    def __init__(self, drop_prob, block_size):\n",
    "        super(DropBlock3D, self).__init__(drop_prob, block_size)\n",
    "\n",
    "    def forward(self, x):\n",
    "        # shape: (bsize, channels, depth, height, width)\n",
    "\n",
    "        assert x.dim() == 5, \\\n",
    "            \"Expected input with 5 dimensions (bsize, channels, depth, height, width)\"\n",
    "\n",
    "        if not self.training or self.drop_prob == 0.:\n",
    "            return x\n",
    "        else:\n",
    "            # get gamma value\n",
    "            gamma = self._compute_gamma(x)\n",
    "\n",
    "            # sample mask\n",
    "            mask = (torch.rand(x.shape[0], *x.shape[2:]) < gamma).float()\n",
    "\n",
    "            # place mask on input device\n",
    "            mask = mask.to(x.device)\n",
    "\n",
    "            # compute block mask\n",
    "            block_mask = self._compute_block_mask(mask)\n",
    "\n",
    "            # apply block mask\n",
    "            out = x * block_mask[:, None, :, :, :]\n",
    "\n",
    "            # scale output\n",
    "            out = out * block_mask.numel() / block_mask.sum()\n",
    "\n",
    "            return out\n",
    "\n",
    "    def _compute_block_mask(self, mask):\n",
    "        block_mask = F.max_pool3d(input=mask[:, None, :, :, :],\n",
    "                                  kernel_size=(self.block_size, self.block_size, self.block_size),\n",
    "                                  stride=(1, 1, 1),\n",
    "                                  padding=self.block_size // 2)\n",
    "\n",
    "        if self.block_size % 2 == 0:\n",
    "            block_mask = block_mask[:, :, :-1, :-1, :-1]\n",
    "\n",
    "        block_mask = 1 - block_mask.squeeze(1)\n",
    "\n",
    "        return block_mask\n",
    "\n",
    "    def _compute_gamma(self, x):\n",
    "        return self.drop_prob / (self.block_size ** 3)"
   ]
  },
  {
   "cell_type": "code",
   "execution_count": 170,
   "metadata": {
    "id": "__rjM7p6mjiZ"
   },
   "outputs": [],
   "source": [
    "import numpy as np\n",
    "from torch import nn\n",
    "\n",
    "\n",
    "class LinearScheduler(nn.Module):\n",
    "    def __init__(self, dropblock, start_value, stop_value, nr_steps):\n",
    "        super(LinearScheduler, self).__init__()\n",
    "        self.dropblock = dropblock\n",
    "        self.i = 0\n",
    "        self.drop_values = np.linspace(start=start_value, stop=stop_value, num=int(nr_steps))\n",
    "\n",
    "    def forward(self, x):\n",
    "        return self.dropblock(x)\n",
    "\n",
    "    def step(self):\n",
    "        if self.i < len(self.drop_values):\n",
    "            self.dropblock.drop_prob = self.drop_values[self.i]\n",
    "\n",
    "        self.i += 1"
   ]
  },
  {
   "cell_type": "code",
   "execution_count": 171,
   "metadata": {
    "id": "7-9fcTMWmnAC"
   },
   "outputs": [],
   "source": [
    "class Net(nn.Module):\n",
    "  def __init__(self, input_shape=(3,32,32)):\n",
    "    super(Net, self).__init__()\n",
    "    \n",
    "    self.conv1 = nn.Conv2d(3, 32, 3)\n",
    "    self.conv2 = nn.Conv2d(32, 64, 3)\n",
    "    self.conv3 = nn.Conv2d(64, 128, 3)\n",
    "    \n",
    "    self.pool = nn.MaxPool2d(2,2)\n",
    "\n",
    "    n_size = self._get_conv_output(input_shape)\n",
    "    \n",
    "    self.fc1 = nn.Linear(n_size, 512)\n",
    "    self.fc2 = nn.Linear(512, 10)\n",
    "    self.dropblock = LinearScheduler(\n",
    "            DropBlock2D(drop_prob=0.5, block_size=3),\n",
    "            start_value=0.,\n",
    "            stop_value=0.5,\n",
    "            nr_steps=5e3\n",
    "        )\n",
    "\n",
    "  def _get_conv_output(self, shape):\n",
    "    batch_size = 1\n",
    "    input = torch.autograd.Variable(torch.rand(batch_size, *shape))\n",
    "    output_feat = self._forward_features(input)\n",
    "    n_size = output_feat.data.view(batch_size, -1).size(1)\n",
    "    return n_size\n",
    "\n",
    "  def _forward_features(self, x):\n",
    "    x = self.pool(F.relu(self.conv1(x)))\n",
    "    x = self.pool(F.relu(self.conv2(x)))\n",
    "    x = self.pool(F.relu(self.conv3(x)))\n",
    "    return x\n",
    "      \n",
    "  def forward(self, x):\n",
    "    self.dropblock.step()\n",
    "    x = self.pool(F.relu(self.conv1(x)))\n",
    "    x = self.conv2(x)\n",
    "    x = self.pool(F.relu(self.dropblock(x)))\n",
    "    x = self.conv3(x)\n",
    "    x = self.pool(F.relu(x))\n",
    "    x = x.view(x.size(0), -1)\n",
    "    x = F.relu(self.fc1(x))\n",
    "    x = self.fc2(x)\n",
    "    return x"
   ]
  },
  {
   "cell_type": "code",
   "execution_count": 172,
   "metadata": {
    "colab": {
     "base_uri": "https://localhost:8080/"
    },
    "id": "PKxBsf3NmtYi",
    "outputId": "8dcab7a7-1496-4242-85ff-342a1e19e183"
   },
   "outputs": [
    {
     "name": "stdout",
     "output_type": "stream",
     "text": [
      "Net(\n",
      "  (conv1): Conv2d(3, 32, kernel_size=(3, 3), stride=(1, 1))\n",
      "  (conv2): Conv2d(32, 64, kernel_size=(3, 3), stride=(1, 1))\n",
      "  (conv3): Conv2d(64, 128, kernel_size=(3, 3), stride=(1, 1))\n",
      "  (pool): MaxPool2d(kernel_size=2, stride=2, padding=0, dilation=1, ceil_mode=False)\n",
      "  (fc1): Linear(in_features=512, out_features=512, bias=True)\n",
      "  (fc2): Linear(in_features=512, out_features=10, bias=True)\n",
      "  (dropblock): LinearScheduler(\n",
      "    (dropblock): DropBlock2D()\n",
      "  )\n",
      ")\n"
     ]
    }
   ],
   "source": [
    "net = Net().to(device)\n",
    "print(net)\n",
    "\n",
    "criterion = nn.CrossEntropyLoss()\n",
    "optimizer = optim.Adam(net.parameters(), lr=lr)"
   ]
  },
  {
   "cell_type": "code",
   "execution_count": 173,
   "metadata": {
    "colab": {
     "base_uri": "https://localhost:8080/"
    },
    "id": "fipYyi7Vmv_1",
    "outputId": "588cda85-3885-4cdf-d850-4321e629e646"
   },
   "outputs": [
    {
     "name": "stdout",
     "output_type": "stream",
     "text": [
      "Epochs:1/45, Train_loss: 0.026013869414329528, Train_accuracy: 39.25\n",
      " Val_loss: 0.021838506698608397, Val_accuracy: 49.84\n",
      "Epochs:2/45, Train_loss: 0.020772363709211348, Train_accuracy: 52.09\n",
      " Val_loss: 0.019571615397930144, Val_accuracy: 55.76\n",
      "Epochs:3/45, Train_loss: 0.01872313467979431, Train_accuracy: 57.37\n",
      " Val_loss: 0.01727901816368103, Val_accuracy: 62.18\n",
      "Epochs:4/45, Train_loss: 0.01726429188847542, Train_accuracy: 61.01\n",
      " Val_loss: 0.01661249840259552, Val_accuracy: 63.56\n",
      "Epochs:5/45, Train_loss: 0.016214344009160997, Train_accuracy: 63.51\n",
      " Val_loss: 0.016072977697849274, Val_accuracy: 65.12\n",
      "Epochs:6/45, Train_loss: 0.01565373354792595, Train_accuracy: 64.81\n",
      " Val_loss: 0.015039219439029694, Val_accuracy: 67.94\n",
      "Epochs:7/45, Train_loss: 0.014804356726408004, Train_accuracy: 66.92\n",
      " Val_loss: 0.014681025743484497, Val_accuracy: 67.58\n",
      "Epochs:8/45, Train_loss: 0.01407848020195961, Train_accuracy: 68.32\n",
      " Val_loss: 0.01400851867198944, Val_accuracy: 70.44\n",
      "Epochs:9/45, Train_loss: 0.013273299312591552, Train_accuracy: 70.3\n",
      " Val_loss: 0.013581982922554017, Val_accuracy: 70.62\n",
      "Epochs:10/45, Train_loss: 0.012795796909332276, Train_accuracy: 71.11\n",
      " Val_loss: 0.013083848083019257, Val_accuracy: 71.98\n",
      "Epochs:11/45, Train_loss: 0.012209752966165542, Train_accuracy: 72.18\n",
      " Val_loss: 0.012617248040437698, Val_accuracy: 72.26\n",
      "Epochs:12/45, Train_loss: 0.011799907585382461, Train_accuracy: 73.48\n",
      " Val_loss: 0.012154804253578186, Val_accuracy: 73.62\n",
      "Epochs:13/45, Train_loss: 0.01132867854297161, Train_accuracy: 74.53\n",
      " Val_loss: 0.012392809474468231, Val_accuracy: 72.58\n",
      "Epochs:14/45, Train_loss: 0.010922291979193687, Train_accuracy: 75.52\n",
      " Val_loss: 0.011814543670415878, Val_accuracy: 75.0\n",
      "Epochs:15/45, Train_loss: 0.01061493624150753, Train_accuracy: 76.21\n",
      " Val_loss: 0.011394923210144042, Val_accuracy: 75.34\n",
      "Epochs:16/45, Train_loss: 0.010202344757914544, Train_accuracy: 76.98\n",
      " Val_loss: 0.011413693404197693, Val_accuracy: 75.2\n",
      "Epochs:17/45, Train_loss: 0.009861916828751564, Train_accuracy: 77.7\n",
      " Val_loss: 0.011392027151584626, Val_accuracy: 74.9\n",
      "Epochs:18/45, Train_loss: 0.009488407138586044, Train_accuracy: 78.66\n",
      " Val_loss: 0.010767117947340012, Val_accuracy: 76.54\n",
      "Epochs:19/45, Train_loss: 0.00921502838075161, Train_accuracy: 79.23\n",
      " Val_loss: 0.01097970346212387, Val_accuracy: 75.38\n",
      "Epochs:20/45, Train_loss: 0.008951267518401146, Train_accuracy: 79.74\n",
      " Val_loss: 0.011344727867841721, Val_accuracy: 75.18\n",
      "Epochs:21/45, Train_loss: 0.00867080104649067, Train_accuracy: 80.3\n",
      " Val_loss: 0.010995671808719635, Val_accuracy: 75.56\n",
      "Epochs:22/45, Train_loss: 0.008382960844039916, Train_accuracy: 81.13\n",
      " Val_loss: 0.0105633276283741, Val_accuracy: 77.04\n",
      "Epochs:23/45, Train_loss: 0.008138203751146794, Train_accuracy: 81.7\n",
      " Val_loss: 0.010595945209264756, Val_accuracy: 76.74\n",
      "Epochs:24/45, Train_loss: 0.00795013342410326, Train_accuracy: 81.97\n",
      " Val_loss: 0.010549846923351288, Val_accuracy: 76.52\n",
      "Epochs:25/45, Train_loss: 0.007654927693903447, Train_accuracy: 82.65\n",
      " Val_loss: 0.010333673626184463, Val_accuracy: 76.82\n",
      "Epochs:26/45, Train_loss: 0.007482366772890091, Train_accuracy: 83.17\n",
      " Val_loss: 0.010505877858400344, Val_accuracy: 76.88\n",
      "Epochs:27/45, Train_loss: 0.007250172608792782, Train_accuracy: 83.49\n",
      " Val_loss: 0.010339817750453948, Val_accuracy: 77.08\n",
      "Epochs:28/45, Train_loss: 0.006965681999325752, Train_accuracy: 84.3\n",
      " Val_loss: 0.010287669444084168, Val_accuracy: 77.84\n",
      "Epochs:29/45, Train_loss: 0.00676438841342926, Train_accuracy: 84.7\n",
      " Val_loss: 0.010242037689685821, Val_accuracy: 77.46\n",
      "Epochs:30/45, Train_loss: 0.006536818740665913, Train_accuracy: 84.99\n",
      " Val_loss: 0.010458926591277123, Val_accuracy: 77.0\n",
      "Epochs:31/45, Train_loss: 0.006396558081507683, Train_accuracy: 85.33\n",
      " Val_loss: 0.01091458431482315, Val_accuracy: 76.38\n",
      "Epochs:32/45, Train_loss: 0.0062270761528611185, Train_accuracy: 85.84\n",
      " Val_loss: 0.010210761713981628, Val_accuracy: 77.94\n",
      "Epochs:33/45, Train_loss: 0.006053113273978233, Train_accuracy: 86.35\n",
      " Val_loss: 0.010339885973930358, Val_accuracy: 77.48\n",
      "Epochs:34/45, Train_loss: 0.005861279834806919, Train_accuracy: 86.7\n",
      " Val_loss: 0.010225839364528656, Val_accuracy: 77.42\n",
      "Epochs:35/45, Train_loss: 0.005678539965748787, Train_accuracy: 87.15\n",
      " Val_loss: 0.010685893094539642, Val_accuracy: 77.1\n",
      "Epochs:36/45, Train_loss: 0.005581590839624405, Train_accuracy: 87.27\n",
      " Val_loss: 0.01049277644753456, Val_accuracy: 77.38\n",
      "Epochs:37/45, Train_loss: 0.005339693663567305, Train_accuracy: 87.86\n",
      " Val_loss: 0.010833370432257652, Val_accuracy: 77.52\n",
      "Epochs:38/45, Train_loss: 0.005272755555361509, Train_accuracy: 87.84\n",
      " Val_loss: 0.010435901260375977, Val_accuracy: 78.24\n",
      "Epochs:39/45, Train_loss: 0.005145729905366898, Train_accuracy: 88.29\n",
      " Val_loss: 0.01040488651394844, Val_accuracy: 78.12\n",
      "Epochs:40/45, Train_loss: 0.0050041185849905015, Train_accuracy: 88.57\n",
      " Val_loss: 0.01071431766152382, Val_accuracy: 77.58\n",
      "Epochs:41/45, Train_loss: 0.0047952629141509535, Train_accuracy: 89.0\n",
      " Val_loss: 0.010388961666822433, Val_accuracy: 78.06\n",
      "Epochs:42/45, Train_loss: 0.004763593874871731, Train_accuracy: 89.3\n",
      " Val_loss: 0.010699236786365508, Val_accuracy: 77.5\n",
      "Epochs:43/45, Train_loss: 0.004545907599925995, Train_accuracy: 89.72\n",
      " Val_loss: 0.011152949011325837, Val_accuracy: 77.08\n",
      "Epochs:44/45, Train_loss: 0.004518832304030657, Train_accuracy: 89.64\n",
      " Val_loss: 0.010651551163196564, Val_accuracy: 77.84\n",
      "Epochs:45/45, Train_loss: 0.004294116881489753, Train_accuracy: 90.31\n",
      " Val_loss: 0.011179723668098449, Val_accuracy: 77.48\n",
      "Finished Training\n",
      "The minimum validation loss is 0.010210761713981628, at epoch 32\n",
      "At epoch 32, the test loss is 0.010239066624641418, the test accuracy is 77.68\n",
      "The maximum validation accuracy is 78.24, at epoch 38\n",
      "At epoch 38, the test loss is 0.010441313481330872, the test accuracy is 78.38\n"
     ]
    }
   ],
   "source": [
    "train_losses4, train_accs4, val_losses4, val_accs4 = train_model(net, device, optimizer, criterion, epochs)"
   ]
  },
  {
   "cell_type": "markdown",
   "metadata": {
    "id": "9Y56vtrZivy9"
   },
   "source": [
    "# Graph the Results"
   ]
  },
  {
   "cell_type": "code",
   "execution_count": 174,
   "metadata": {
    "colab": {
     "base_uri": "https://localhost:8080/",
     "height": 1000
    },
    "id": "FOYMzulofw7c",
    "outputId": "d705454a-1794-438e-9905-2a504a663a61"
   },
   "outputs": [
    {
     "data": {
      "image/png": "[encoded data removed]",
      "text/plain": [
       "<Figure size 432x288 with 1 Axes>"
      ]
     },
     "metadata": {
      "needs_background": "light"
     },
     "output_type": "display_data"
    },
    {
     "data": {
      "image/png": "[encoded data removed]",
      "text/plain": [
       "<Figure size 432x288 with 1 Axes>"
      ]
     },
     "metadata": {
      "needs_background": "light"
     },
     "output_type": "display_data"
    },
    {
     "data": {
      "image/png": "[encoded data removed]",
      "text/plain": [
       "<Figure size 432x288 with 1 Axes>"
      ]
     },
     "metadata": {
      "needs_background": "light"
     },
     "output_type": "display_data"
    },
    {
     "data": {
      "image/png": "[encoded data removed]",
      "text/plain": [
       "<Figure size 432x288 with 1 Axes>"
      ]
     },
     "metadata": {
      "needs_background": "light"
     },
     "output_type": "display_data"
    }
   ],
   "source": [
    "import matplotlib.pyplot as plt\n",
    "\n",
    "x = range(1,epochs+1)\n",
    "plt.plot(x, train_losses1, label=\"unregularized\")\n",
    "plt.xlabel(\"epochs\")\n",
    "plt.plot(x, train_losses2, label=\"dropout\")\n",
    "plt.plot(x, train_losses3, label=\"dropconnect\")\n",
    "plt.plot(x, train_losses4, label=\"dropblock\")\n",
    "plt.xlabel(\"epochs\")\n",
    "plt.ylabel(\"training loss\")\n",
    "plt.legend()\n",
    "plt.show()\n",
    "\n",
    "plt.plot(x, val_losses1, label=\"unregularized\")\n",
    "plt.plot(x, val_losses2, label=\"dropout\")\n",
    "plt.plot(x, val_losses3, label=\"dropconnect\")\n",
    "plt.plot(x, val_losses4, label=\"dropblock\")\n",
    "\n",
    "plt.xlabel(\"epochs\")\n",
    "plt.ylabel(\"validation loss\")\n",
    "plt.legend()\n",
    "plt.show()\n",
    "\n",
    "plt.plot(x, train_accs1, label='unregularized')\n",
    "plt.plot(x, train_accs2, label='dropout')\n",
    "plt.plot(x, train_accs3, label='dropconnect')\n",
    "plt.plot(x, train_accs4, label=\"dropblock\")\n",
    "\n",
    "plt.xlabel(\"epochs\")\n",
    "plt.ylabel(\"training accuracy\")\n",
    "plt.legend()\n",
    "plt.show()\n",
    "\n",
    "plt.plot(x, val_accs1, label='unregularized')\n",
    "plt.plot(x, val_accs2, label='dropout')\n",
    "plt.plot(x, val_accs3, label='dropconnect')\n",
    "plt.plot(x, val_accs4, label=\"dropblock\")\n",
    "\n",
    "plt.xlabel(\"epochs\")\n",
    "plt.ylabel(\"validation accuracy\")\n",
    "plt.legend()\n",
    "plt.show()"
   ]
  }
 ],
 "metadata": {
  "accelerator": "GPU",
  "colab": {
   "collapsed_sections": [
    "nBfH6EZj-1zr",
    "x1rqf1Lt-1zw",
    "0jmTyKuH-1zz",
    "sgOWnweL-1z0",
    "a-AEqVzajHEi",
    "NQj4zFtd-1z1",
    "IB4Tm8K0-1z3",
    "IsbypmMdmWct",
    "9Y56vtrZivy9"
   ],
   "machine_shape": "hm",
   "name": "cifar-everything.ipynb",
   "provenance": [],
   "toc_visible": true
  },
  "kernelspec": {
   "display_name": "Python 3",
   "language": "python",
   "name": "python3"
  },
  "language_info": {
   "codemirror_mode": {
    "name": "ipython",
    "version": 3
   },
   "file_extension": ".py",
   "mimetype": "text/x-python",
   "name": "python",
   "nbconvert_exporter": "python",
   "pygments_lexer": "ipython3",
   "version": "3.8.8"
  }
 },
 "nbformat": 4,
 "nbformat_minor": 1
}
